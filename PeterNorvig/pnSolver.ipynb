{
 "metadata": {
  "language_info": {
   "codemirror_mode": {
    "name": "ipython",
    "version": 3
   },
   "file_extension": ".py",
   "mimetype": "text/x-python",
   "name": "python",
   "nbconvert_exporter": "python",
   "pygments_lexer": "ipython3",
   "version": "3.8.6"
  },
  "orig_nbformat": 2,
  "kernelspec": {
   "name": "pythonjvsc74a57bd03c58f8c071db5be489be44091d9be491a3929c94b6ff28abe8d40039329b2221",
   "display_name": "Python 3.8.6rc1  ('venv': venv)"
  },
  "metadata": {
   "interpreter": {
    "hash": "3c58f8c071db5be489be44091d9be491a3929c94b6ff28abe8d40039329b2221"
   }
  }
 },
 "nbformat": 4,
 "nbformat_minor": 2,
 "cells": [
  {
   "source": [
    "# Solving sudoku with Peter Norvig's Algorithm"
   ],
   "cell_type": "markdown",
   "metadata": {}
  },
  {
   "cell_type": "code",
   "execution_count": 1,
   "metadata": {},
   "outputs": [],
   "source": [
    "from modules import test_accuracy\n",
    "from dataProcessing import get_data\n",
    "import time\n",
    "import psutil, os"
   ]
  },
  {
   "cell_type": "code",
   "execution_count": 2,
   "metadata": {},
   "outputs": [],
   "source": [
    "x_train, x_test, y_train, y_test = get_data('../sudoku.csv')"
   ]
  },
  {
   "cell_type": "code",
   "execution_count": 3,
   "metadata": {},
   "outputs": [
    {
     "output_type": "stream",
     "name": "stdout",
     "text": [
      "1.0\n",
      "The CPU usage is:  7.8\n",
      "RAM memory % used: 66.4\n",
      "Wall time: 4.02 s\n"
     ]
    }
   ],
   "source": [
    "%%time\n",
    "test_accuracy(x_test[:4], y_test[:4])\n",
    "print('The CPU usage is: ', psutil.cpu_percent(4))\n",
    "print('RAM memory % used:', psutil.virtual_memory()[2])"
   ]
  }
 ]
}